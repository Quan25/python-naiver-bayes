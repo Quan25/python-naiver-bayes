{
 "cells": [
  {
   "cell_type": "code",
   "execution_count": 2,
   "metadata": {},
   "outputs": [],
   "source": [
    "import pandas as pd\n"
   ]
  },
  {
   "cell_type": "code",
   "execution_count": 3,
   "metadata": {},
   "outputs": [],
   "source": [
    "df = pd.read_csv('data.csv')"
   ]
  },
  {
   "cell_type": "code",
   "execution_count": 4,
   "metadata": {},
   "outputs": [
    {
     "name": "stdout",
     "output_type": "stream",
     "text": [
      "               Words               Author\n",
      "0     W1 W2 W3 W4 W5  Christopher Marlowe\n",
      "1        W1 W1 W4 W3  Christopher Marlowe\n",
      "2           W1 W2 W5  Christopher Marlowe\n",
      "3     W5 W6 W1 W2 W3      William Stanley\n",
      "4           W4 W5 W6      William Stanley\n",
      "5           W4 W6 W3        Francis Bacon\n",
      "6  W2 W2 W4 W3 W5 W5        Francis Bacon\n"
     ]
    }
   ],
   "source": [
    "print(df)"
   ]
  },
  {
   "cell_type": "code",
   "execution_count": 5,
   "metadata": {},
   "outputs": [
    {
     "data": {
      "text/html": [
       "<div>\n",
       "<style scoped>\n",
       "    .dataframe tbody tr th:only-of-type {\n",
       "        vertical-align: middle;\n",
       "    }\n",
       "\n",
       "    .dataframe tbody tr th {\n",
       "        vertical-align: top;\n",
       "    }\n",
       "\n",
       "    .dataframe thead th {\n",
       "        text-align: right;\n",
       "    }\n",
       "</style>\n",
       "<table border=\"1\" class=\"dataframe\">\n",
       "  <thead>\n",
       "    <tr style=\"text-align: right;\">\n",
       "      <th></th>\n",
       "      <th>w1</th>\n",
       "      <th>w2</th>\n",
       "      <th>w3</th>\n",
       "      <th>w4</th>\n",
       "      <th>w5</th>\n",
       "    </tr>\n",
       "  </thead>\n",
       "  <tbody>\n",
       "    <tr>\n",
       "      <td>0</td>\n",
       "      <td>1</td>\n",
       "      <td>1</td>\n",
       "      <td>1</td>\n",
       "      <td>1</td>\n",
       "      <td>1</td>\n",
       "    </tr>\n",
       "    <tr>\n",
       "      <td>1</td>\n",
       "      <td>2</td>\n",
       "      <td>0</td>\n",
       "      <td>1</td>\n",
       "      <td>1</td>\n",
       "      <td>0</td>\n",
       "    </tr>\n",
       "    <tr>\n",
       "      <td>2</td>\n",
       "      <td>1</td>\n",
       "      <td>1</td>\n",
       "      <td>0</td>\n",
       "      <td>0</td>\n",
       "      <td>1</td>\n",
       "    </tr>\n",
       "  </tbody>\n",
       "</table>\n",
       "</div>"
      ],
      "text/plain": [
       "   w1  w2  w3  w4  w5\n",
       "0   1   1   1   1   1\n",
       "1   2   0   1   1   0\n",
       "2   1   1   0   0   1"
      ]
     },
     "execution_count": 5,
     "metadata": {},
     "output_type": "execute_result"
    }
   ],
   "source": [
    "# Term-Document Matrix (TDM) for ‘Christopher Marlowe’ class\n",
    "from sklearn.feature_extraction.text import CountVectorizer\n",
    "\n",
    "c_docs = [row['Words'] for index,row in df.iterrows() if row['Author'] == 'Christopher Marlowe']\n",
    "\n",
    "vec_c = CountVectorizer()\n",
    "X_C = vec_c.fit_transform(c_docs)\n",
    "tdm_C = pd.DataFrame(X_C.toarray(), columns=vec_c.get_feature_names())\n",
    "\n",
    "tdm_C"
   ]
  },
  {
   "cell_type": "code",
   "execution_count": 6,
   "metadata": {},
   "outputs": [
    {
     "data": {
      "text/html": [
       "<div>\n",
       "<style scoped>\n",
       "    .dataframe tbody tr th:only-of-type {\n",
       "        vertical-align: middle;\n",
       "    }\n",
       "\n",
       "    .dataframe tbody tr th {\n",
       "        vertical-align: top;\n",
       "    }\n",
       "\n",
       "    .dataframe thead th {\n",
       "        text-align: right;\n",
       "    }\n",
       "</style>\n",
       "<table border=\"1\" class=\"dataframe\">\n",
       "  <thead>\n",
       "    <tr style=\"text-align: right;\">\n",
       "      <th></th>\n",
       "      <th>w1</th>\n",
       "      <th>w2</th>\n",
       "      <th>w3</th>\n",
       "      <th>w4</th>\n",
       "      <th>w5</th>\n",
       "      <th>w6</th>\n",
       "    </tr>\n",
       "  </thead>\n",
       "  <tbody>\n",
       "    <tr>\n",
       "      <td>0</td>\n",
       "      <td>1</td>\n",
       "      <td>1</td>\n",
       "      <td>1</td>\n",
       "      <td>0</td>\n",
       "      <td>1</td>\n",
       "      <td>1</td>\n",
       "    </tr>\n",
       "    <tr>\n",
       "      <td>1</td>\n",
       "      <td>0</td>\n",
       "      <td>0</td>\n",
       "      <td>0</td>\n",
       "      <td>1</td>\n",
       "      <td>1</td>\n",
       "      <td>1</td>\n",
       "    </tr>\n",
       "  </tbody>\n",
       "</table>\n",
       "</div>"
      ],
      "text/plain": [
       "   w1  w2  w3  w4  w5  w6\n",
       "0   1   1   1   0   1   1\n",
       "1   0   0   0   1   1   1"
      ]
     },
     "execution_count": 6,
     "metadata": {},
     "output_type": "execute_result"
    }
   ],
   "source": [
    "# Term-Document Matrix (TDM) for ‘William Stanley’ class\n",
    "w_docs = [row['Words'] for index,row in df.iterrows() if row['Author'] == 'William Stanley']\n",
    "\n",
    "vec_w = CountVectorizer()\n",
    "X_w = vec_w.fit_transform(w_docs)\n",
    "tdm_w = pd.DataFrame(X_w.toarray(), columns=vec_w.get_feature_names())\n",
    "\n",
    "tdm_w\n"
   ]
  },
  {
   "cell_type": "code",
   "execution_count": 7,
   "metadata": {},
   "outputs": [
    {
     "data": {
      "text/html": [
       "<div>\n",
       "<style scoped>\n",
       "    .dataframe tbody tr th:only-of-type {\n",
       "        vertical-align: middle;\n",
       "    }\n",
       "\n",
       "    .dataframe tbody tr th {\n",
       "        vertical-align: top;\n",
       "    }\n",
       "\n",
       "    .dataframe thead th {\n",
       "        text-align: right;\n",
       "    }\n",
       "</style>\n",
       "<table border=\"1\" class=\"dataframe\">\n",
       "  <thead>\n",
       "    <tr style=\"text-align: right;\">\n",
       "      <th></th>\n",
       "      <th>w2</th>\n",
       "      <th>w3</th>\n",
       "      <th>w4</th>\n",
       "      <th>w5</th>\n",
       "      <th>w6</th>\n",
       "    </tr>\n",
       "  </thead>\n",
       "  <tbody>\n",
       "    <tr>\n",
       "      <td>0</td>\n",
       "      <td>0</td>\n",
       "      <td>1</td>\n",
       "      <td>1</td>\n",
       "      <td>0</td>\n",
       "      <td>1</td>\n",
       "    </tr>\n",
       "    <tr>\n",
       "      <td>1</td>\n",
       "      <td>2</td>\n",
       "      <td>1</td>\n",
       "      <td>1</td>\n",
       "      <td>2</td>\n",
       "      <td>0</td>\n",
       "    </tr>\n",
       "  </tbody>\n",
       "</table>\n",
       "</div>"
      ],
      "text/plain": [
       "   w2  w3  w4  w5  w6\n",
       "0   0   1   1   0   1\n",
       "1   2   1   1   2   0"
      ]
     },
     "execution_count": 7,
     "metadata": {},
     "output_type": "execute_result"
    }
   ],
   "source": [
    "# Term-Document Matrix (TDM) for ‘Francis Bacon’ class\n",
    "f_docs = [row['Words'] for index,row in df.iterrows() if row['Author'] == 'Francis Bacon']\n",
    "\n",
    "vec_f = CountVectorizer()\n",
    "X_f = vec_f.fit_transform(f_docs)\n",
    "tdm_f = pd.DataFrame(X_f.toarray(), columns=vec_f.get_feature_names())\n",
    "\n",
    "tdm_f"
   ]
  },
  {
   "cell_type": "code",
   "execution_count": 8,
   "metadata": {},
   "outputs": [
    {
     "data": {
      "text/plain": [
       "{'w1': 4, 'w2': 2, 'w3': 2, 'w4': 2, 'w5': 2}"
      ]
     },
     "execution_count": 8,
     "metadata": {},
     "output_type": "execute_result"
    }
   ],
   "source": [
    "# find frequency for each words in C\n",
    "word_list_c = vec_c.get_feature_names();    \n",
    "count_list_c = X_C.toarray().sum(axis=0) \n",
    "freq_c = dict(zip(word_list_c,count_list_c))\n",
    "freq_c"
   ]
  },
  {
   "cell_type": "code",
   "execution_count": 9,
   "metadata": {},
   "outputs": [
    {
     "data": {
      "text/plain": [
       "{'w1': 1, 'w2': 1, 'w3': 1, 'w4': 1, 'w5': 2, 'w6': 2}"
      ]
     },
     "execution_count": 9,
     "metadata": {},
     "output_type": "execute_result"
    }
   ],
   "source": [
    "# find frequency for each words in W\n",
    "word_list_w = vec_w.get_feature_names();    \n",
    "count_list_w = X_w.toarray().sum(axis=0) \n",
    "freq_w = dict(zip(word_list_w,count_list_w))\n",
    "freq_w"
   ]
  },
  {
   "cell_type": "code",
   "execution_count": 10,
   "metadata": {},
   "outputs": [
    {
     "data": {
      "text/plain": [
       "{'w2': 2, 'w3': 2, 'w4': 2, 'w5': 2, 'w6': 1}"
      ]
     },
     "execution_count": 10,
     "metadata": {},
     "output_type": "execute_result"
    }
   ],
   "source": [
    "# find frequency for each words in F\n",
    "word_list_f = vec_f.get_feature_names();    \n",
    "count_list_f = X_f.toarray().sum(axis=0) \n",
    "freq_f = dict(zip(word_list_f,count_list_f))\n",
    "freq_f"
   ]
  },
  {
   "cell_type": "code",
   "execution_count": 11,
   "metadata": {},
   "outputs": [
    {
     "data": {
      "text/plain": [
       "{'w1': 0.8, 'w2': 0.4, 'w3': 0.4, 'w4': 0.4, 'w5': 0.4}"
      ]
     },
     "execution_count": 11,
     "metadata": {},
     "output_type": "execute_result"
    }
   ],
   "source": [
    "# find the probabilities of words in C class\n",
    "prob_c = []\n",
    "for word, count in zip(word_list_c, count_list_c):\n",
    "    prob_c.append(count / len(word_list_c))\n",
    "dict(zip(word_list_c, prob_c))"
   ]
  },
  {
   "cell_type": "code",
   "execution_count": 12,
   "metadata": {},
   "outputs": [
    {
     "data": {
      "text/plain": [
       "{'w1': 0.16666666666666666,\n",
       " 'w2': 0.16666666666666666,\n",
       " 'w3': 0.16666666666666666,\n",
       " 'w4': 0.16666666666666666,\n",
       " 'w5': 0.3333333333333333,\n",
       " 'w6': 0.3333333333333333}"
      ]
     },
     "execution_count": 12,
     "metadata": {},
     "output_type": "execute_result"
    }
   ],
   "source": [
    "# find the probabilities of words in W class\n",
    "prob_w = []\n",
    "for word, count in zip(word_list_w, count_list_w):\n",
    "    prob_w.append(count / len(word_list_w))\n",
    "dict(zip(word_list_w, prob_w))"
   ]
  },
  {
   "cell_type": "code",
   "execution_count": 13,
   "metadata": {},
   "outputs": [
    {
     "data": {
      "text/plain": [
       "{'w2': 0.4, 'w3': 0.4, 'w4': 0.4, 'w5': 0.4, 'w6': 0.2}"
      ]
     },
     "execution_count": 13,
     "metadata": {},
     "output_type": "execute_result"
    }
   ],
   "source": [
    "# find the probabilities of words in F class\n",
    "prob_f = []\n",
    "for word, count in zip(word_list_f, count_list_f):\n",
    "    prob_f.append(count / len(word_list_f))\n",
    "dict(zip(word_list_f, prob_f))"
   ]
  },
  {
   "cell_type": "code",
   "execution_count": 14,
   "metadata": {},
   "outputs": [
    {
     "data": {
      "text/plain": [
       "6"
      ]
     },
     "execution_count": 14,
     "metadata": {},
     "output_type": "execute_result"
    }
   ],
   "source": [
    "# find the total different words\n",
    "from sklearn.feature_extraction.text import CountVectorizer\n",
    "\n",
    "docs = [row['Words'] for index,row in df.iterrows()]\n",
    "\n",
    "vec = CountVectorizer()\n",
    "X = vec.fit_transform(docs)\n",
    "\n",
    "total_features = len(vec.get_feature_names())\n",
    "total_features"
   ]
  },
  {
   "cell_type": "code",
   "execution_count": 15,
   "metadata": {},
   "outputs": [],
   "source": [
    "total_cnts_features_c = count_list_c.sum(axis=0)\n",
    "total_cnts_features_w = count_list_w.sum(axis=0)\n",
    "total_cnts_features_f = count_list_f.sum(axis=0)"
   ]
  },
  {
   "cell_type": "code",
   "execution_count": 16,
   "metadata": {},
   "outputs": [],
   "source": [
    "from nltk.tokenize import word_tokenize\n",
    "new_sentence = 'w1 w4 w6 w5 w3'\n",
    "new_word_list = word_tokenize(new_sentence)"
   ]
  },
  {
   "cell_type": "code",
   "execution_count": 17,
   "metadata": {},
   "outputs": [
    {
     "data": {
      "text/plain": [
       "{'w1': 0.2777777777777778,\n",
       " 'w4': 0.16666666666666666,\n",
       " 'w6': 0.05555555555555555,\n",
       " 'w5': 0.16666666666666666,\n",
       " 'w3': 0.16666666666666666}"
      ]
     },
     "execution_count": 17,
     "metadata": {},
     "output_type": "execute_result"
    }
   ],
   "source": [
    "prob_s_with_ls = []\n",
    "\n",
    "for word in new_word_list:\n",
    "    if word in freq_c.keys():\n",
    "        count = freq_c[word]\n",
    "    else:\n",
    "        count = 0\n",
    "    prob_s_with_ls.append((count + 1)/(total_cnts_features_c + total_features))\n",
    "dict_c = dict(zip(new_word_list,prob_s_with_ls))\n",
    "dict_c"
   ]
  },
  {
   "cell_type": "code",
   "execution_count": 18,
   "metadata": {},
   "outputs": [
    {
     "data": {
      "text/plain": [
       "{'w1': 0.14285714285714285,\n",
       " 'w4': 0.14285714285714285,\n",
       " 'w6': 0.21428571428571427,\n",
       " 'w5': 0.21428571428571427,\n",
       " 'w3': 0.14285714285714285}"
      ]
     },
     "execution_count": 18,
     "metadata": {},
     "output_type": "execute_result"
    }
   ],
   "source": [
    "prob_s_with_lc = []\n",
    "for word in new_word_list:\n",
    "    if word in freq_w.keys():\n",
    "        count = freq_w[word]\n",
    "    else:\n",
    "        count = 0\n",
    "    prob_s_with_lc.append((count + 1)/(total_cnts_features_w + total_features))\n",
    "dict_w=dict(zip(new_word_list,prob_s_with_lc))\n",
    "dict_w"
   ]
  },
  {
   "cell_type": "code",
   "execution_count": 19,
   "metadata": {},
   "outputs": [
    {
     "data": {
      "text/plain": [
       "{'w1': 0.06666666666666667,\n",
       " 'w4': 0.2,\n",
       " 'w6': 0.13333333333333333,\n",
       " 'w5': 0.2,\n",
       " 'w3': 0.2}"
      ]
     },
     "execution_count": 19,
     "metadata": {},
     "output_type": "execute_result"
    }
   ],
   "source": [
    "prob_s_with_lf = []\n",
    "for word in new_word_list:\n",
    "    if word in freq_f.keys():\n",
    "        count = freq_f[word]\n",
    "    else:\n",
    "        count = 0\n",
    "    prob_s_with_lf.append((count + 1)/(total_cnts_features_f + total_features))\n",
    "dict_f=dict(zip(new_word_list,prob_s_with_lf))\n",
    "dict_f"
   ]
  },
  {
   "cell_type": "code",
   "execution_count": 28,
   "metadata": {},
   "outputs": [],
   "source": [
    "test_prob_is_c = 1\n",
    "for i in dict_c:\n",
    "    test_prob_is_c = dict_c[i] * test_prob_is_c\n",
    "test_prob_is_c *= 3/7"
   ]
  },
  {
   "cell_type": "code",
   "execution_count": 26,
   "metadata": {},
   "outputs": [],
   "source": [
    "test_prob_is_w = 1\n",
    "for i in dict_w:\n",
    "    test_prob_is_w = dict_w[i] * test_prob_is_w\n",
    "test_prob_is_w *= 2/7"
   ]
  },
  {
   "cell_type": "code",
   "execution_count": 29,
   "metadata": {},
   "outputs": [],
   "source": [
    "test_prob_is_f = 1\n",
    "for i in dict_f:\n",
    "    test_prob_is_f = dict_f[i] * test_prob_is_f\n",
    "test_prob_is_f *= 2/7"
   ]
  },
  {
   "cell_type": "code",
   "execution_count": 30,
   "metadata": {},
   "outputs": [
    {
     "name": "stdout",
     "output_type": "stream",
     "text": [
      "the test document belongs to William Stanley\n"
     ]
    }
   ],
   "source": [
    "if(test_prob_is_c >= test_prob_is_w and test_prob_is_c >= test_prob_is_f): \n",
    "    print('the test document belongs to Christopher Marlowe') \n",
    "  \n",
    "elif(test_prob_is_w >= test_prob_is_c and test_prob_is_w >= test_prob_is_f): \n",
    "    print('the test document belongs to William Stanley') \n",
    "else: \n",
    "    print('the test document belongs to Francis Bacon') "
   ]
  },
  {
   "cell_type": "code",
   "execution_count": null,
   "metadata": {},
   "outputs": [],
   "source": []
  }
 ],
 "metadata": {
  "kernelspec": {
   "display_name": "Python 3",
   "language": "python",
   "name": "python3"
  },
  "language_info": {
   "codemirror_mode": {
    "name": "ipython",
    "version": 3
   },
   "file_extension": ".py",
   "mimetype": "text/x-python",
   "name": "python",
   "nbconvert_exporter": "python",
   "pygments_lexer": "ipython3",
   "version": "3.7.4"
  }
 },
 "nbformat": 4,
 "nbformat_minor": 2
}
